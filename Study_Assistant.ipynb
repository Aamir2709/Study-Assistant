{
  "nbformat": 4,
  "nbformat_minor": 0,
  "metadata": {
    "colab": {
      "provenance": []
    },
    "kernelspec": {
      "name": "python3",
      "display_name": "Python 3"
    },
    "language_info": {
      "name": "python"
    }
  },
  "cells": [
    {
      "cell_type": "code",
      "execution_count": 36,
      "metadata": {
        "id": "Ta2YeBUluBFs"
      },
      "outputs": [],
      "source": [
        "import numpy as np\n",
        "import nltk\n",
        "import string\n",
        "import string\n",
        "import re\n",
        "import pdfminer.high_level\n",
        "from pdfminer.high_level import extract_pages, extract_text\n",
        "import random"
      ]
    },
    {
      "cell_type": "code",
      "source": [
        "pip install pdfminer.six"
      ],
      "metadata": {
        "colab": {
          "base_uri": "https://localhost:8080/",
          "height": 311
        },
        "id": "4nF2Wl3pjr9L",
        "outputId": "99fd94c8-66ea-46db-d3b5-eb905567e3cd"
      },
      "execution_count": 6,
      "outputs": [
        {
          "output_type": "stream",
          "name": "stdout",
          "text": [
            "Looking in indexes: https://pypi.org/simple, https://us-python.pkg.dev/colab-wheels/public/simple/\n",
            "Collecting pdfminer.six\n",
            "  Downloading pdfminer.six-20221105-py3-none-any.whl (5.6 MB)\n",
            "\u001b[2K     \u001b[90m━━━━━━━━━━━━━━━━━━━━━━━━━━━━━━━━━━━━━━━━\u001b[0m \u001b[32m5.6/5.6 MB\u001b[0m \u001b[31m62.5 MB/s\u001b[0m eta \u001b[36m0:00:00\u001b[0m\n",
            "\u001b[?25hRequirement already satisfied: charset-normalizer>=2.0.0 in /usr/local/lib/python3.8/dist-packages (from pdfminer.six) (2.1.1)\n",
            "Collecting cryptography>=36.0.0\n",
            "  Downloading cryptography-39.0.0-cp36-abi3-manylinux_2_24_x86_64.whl (4.1 MB)\n",
            "\u001b[2K     \u001b[90m━━━━━━━━━━━━━━━━━━━━━━━━━━━━━━━━━━━━━━━━\u001b[0m \u001b[32m4.1/4.1 MB\u001b[0m \u001b[31m71.3 MB/s\u001b[0m eta \u001b[36m0:00:00\u001b[0m\n",
            "\u001b[?25hRequirement already satisfied: cffi>=1.12 in /usr/local/lib/python3.8/dist-packages (from cryptography>=36.0.0->pdfminer.six) (1.15.1)\n",
            "Requirement already satisfied: pycparser in /usr/local/lib/python3.8/dist-packages (from cffi>=1.12->cryptography>=36.0.0->pdfminer.six) (2.21)\n",
            "Installing collected packages: cryptography, pdfminer.six\n",
            "Successfully installed cryptography-39.0.0 pdfminer.six-20221105\n"
          ]
        },
        {
          "output_type": "display_data",
          "data": {
            "application/vnd.colab-display-data+json": {
              "pip_warning": {
                "packages": [
                  "pdfminer"
                ]
              }
            }
          },
          "metadata": {}
        }
      ]
    },
    {
      "cell_type": "code",
      "source": [
        "pip install pdfminer"
      ],
      "metadata": {
        "colab": {
          "base_uri": "https://localhost:8080/"
        },
        "id": "pvXRPmGOjKMI",
        "outputId": "42713096-8bb7-42f7-b713-3e3b1bdba299"
      },
      "execution_count": 2,
      "outputs": [
        {
          "output_type": "stream",
          "name": "stdout",
          "text": [
            "Looking in indexes: https://pypi.org/simple, https://us-python.pkg.dev/colab-wheels/public/simple/\n",
            "Collecting pdfminer\n",
            "  Downloading pdfminer-20191125.tar.gz (4.2 MB)\n",
            "\u001b[2K     \u001b[90m━━━━━━━━━━━━━━━━━━━━━━━━━━━━━━━━━━━━━━━━\u001b[0m \u001b[32m4.2/4.2 MB\u001b[0m \u001b[31m54.5 MB/s\u001b[0m eta \u001b[36m0:00:00\u001b[0m\n",
            "\u001b[?25h  Preparing metadata (setup.py) ... \u001b[?25l\u001b[?25hdone\n",
            "Collecting pycryptodome\n",
            "  Downloading pycryptodome-3.16.0-cp35-abi3-manylinux_2_5_x86_64.manylinux1_x86_64.manylinux_2_12_x86_64.manylinux2010_x86_64.whl (2.3 MB)\n",
            "\u001b[2K     \u001b[90m━━━━━━━━━━━━━━━━━━━━━━━━━━━━━━━━━━━━━━━━\u001b[0m \u001b[32m2.3/2.3 MB\u001b[0m \u001b[31m82.4 MB/s\u001b[0m eta \u001b[36m0:00:00\u001b[0m\n",
            "\u001b[?25hBuilding wheels for collected packages: pdfminer\n",
            "  Building wheel for pdfminer (setup.py) ... \u001b[?25l\u001b[?25hdone\n",
            "  Created wheel for pdfminer: filename=pdfminer-20191125-py3-none-any.whl size=6140107 sha256=7ce8bd56cc70cb29bc1282a3bb0ee29a3932d0d16494d0e61be8ceaf62e88848\n",
            "  Stored in directory: /root/.cache/pip/wheels/1c/28/7d/f390b82bb0307deb63ff27a1474fd308ec68ee028cb9ab6283\n",
            "Successfully built pdfminer\n",
            "Installing collected packages: pycryptodome, pdfminer\n",
            "Successfully installed pdfminer-20191125 pycryptodome-3.16.0\n"
          ]
        }
      ]
    },
    {
      "cell_type": "code",
      "source": [
        "txt = extract_text(\"ra.pdf\")\n",
        "txt"
      ],
      "metadata": {
        "colab": {
          "base_uri": "https://localhost:8080/",
          "height": 123
        },
        "id": "UJ4UZfU-7LEY",
        "outputId": "54ff86be-f721-4595-c4a3-a4d25aaf025b"
      },
      "execution_count": 48,
      "outputs": [
        {
          "output_type": "execute_result",
          "data": {
            "text/plain": [
              "'Routing Algorithms\\n\\n\\x0c\\uf09e Introduction\\n\\uf09e Distance-Vector Routing\\n\\n- Bellman-Ford Equation.\\n- Distance Vectors.\\n- Distance-Vector Routing Algorithm.\\n\\n\\uf09e Link-State Routing\\n\\n- Link-State Database (LSDB).\\n- Formation of Least-Cost Trees.\\n\\n\\uf09e Path-Vector Routing\\n- Spanning Trees.\\n- Creation of Spanning Trees.\\n- Path-Vector Algorithm.\\n\\n\\x0cAn internet is a combination of networks connected\\nby routers. When a datagram goes from a source to\\na destination, it will probably pass through many\\nrouters until it reaches the router attached to the\\ndestination network.\\n\\n\\x0cToday, an internet can be so large that one \\nrouting protocol cannot handle the task of \\nupdating the routing tables of all routers. For \\nthis reason, an internet is divided into \\nautonomous systems. \\nAn autonomous system (AS) is a group of \\nnetworks and routers under the authority of a \\nsingle administration. Routing inside an \\nautonomous system is called intra-domain \\nrouting. Routing between autonomous systems \\nis called inter-domain routing\\n\\n\\x0c\\x0c\\x0c\\uf09e The distance-vector (DV) routing uses the goal to \\n\\nfind the best route.\\n\\n\\uf09e The first thing each node creates is its own least-\\ncost tree with the rudimentary information it has \\nabout its immediate neighbors.\\n\\n\\uf09e The incomplete trees are exchanged between \\n\\nimmediate neighbors to make the trees more and \\nmore complete and to represent the whole \\ninternet.\\n\\n\\uf09e router continuously tells all of its neighbors what it \\n\\nknows about the whole internet, \\n(although the knowledge can be incomplete).\\n\\n\\x0c\\uf09e Bellman-Ford equation is used to find the least cost (shortest \\ndistance) between a source node x and a destination node y \\nthrough some intermediary nodes (a, b, c, . . .) when the costs \\nbetween the source and the intermediary nodes and the least \\ncosts between the intermediary nodes and the destination are \\ngiven.\\n\\n\\uf09e Equation\\n\\n\\x0c\\uf09e A least-cost tree is a combination of least-cost paths \\n\\nfrom the root of the tree to all destinations.\\n\\n\\uf09e These paths are graphically glued together to form \\n\\nthe tree.\\n\\n\\uf09e Distance-vector routing unglues these paths and \\n\\ncreates a distance vector, a one-dimensional array to \\nrepresent the tree.\\n\\n\\x0cNote That :\\n\\uf09e The name of the distance vector defines the root. \\n\\uf09e The indexes define the destinations.\\n\\uf09e The value of each cell defines the least cost from the root \\n\\nto the destination.\\n\\n\\x0c1 - Each node in an internet, when it is booted, creates a very \\nrudimentary distance vector with the minimum information \\nthe node can obtain from its neighborhood.\\n\\n\\x0c2. The node sends some greeting messages out of its interfaces \\nand discovers the identity of the immediate neighbors and \\nthe distance between itself and each neighbor.\\n\\n3. makes a simple distance vector by inserting the discovered \\ndistances in the corresponding cells and leaves the value of \\nother cells as infinity.\\n\\n\\x0c\\x0c\\uf09e A problem with distance-vector routing is that \\nany decrease in cost (good news) propagates \\nquickly, but any increase in cost (bad news) will \\npropagate slowly. \\n\\n\\uf09e For a routing protocol to work properly, if a link \\n\\nis broken (cost becomes infinity), \\n\\n\\uf09e every other router should be aware of it \\n\\nimmediately, but in distance-vector routing, this \\ntakes some time.\\n\\n\\uf09e The problem is referred to as count to infinity. \\n\\uf09e It sometimes takes several updates before the \\ncost for a broken link is recorded as infinity by \\nall routers.\\n\\n\\x0c\\x0c\\uf09e In this strategy, instead of flooding the table through \\neach interface, each node sends only part of its table \\nthrough each interface.\\n\\n\\uf09e If, according to its table, node B thinks that the \\n\\noptimum route to reach X is via A.\\n\\n\\uf09e Taking information from node A, modifying it, and \\n\\nsending it back to node A is what creates the \\nconfusion.\\n\\n\\uf09e In this case, node A keeps the value of infinity as the \\n\\ndistance to X. \\n\\n\\uf09e Later, when node A sends its forwarding table to B, \\n\\nnode B also corrects its forwarding table.\\n\\n\\uf09e The system becomes stable after the first update: \\n\\nboth node A and node B know that X is not reachable.\\n\\n\\x0c\\uf09e Using the split-horizon strategy has one drawback. \\n\\n\\uf09e Normally, the corresponding protocol uses a timer, and if there is \\n\\nno news about a route, the node deletes the route from its \\ntable. \\n\\n\\uf09e When node B in the previous scenario eliminates the route to X \\nfrom its advertisement to A,  B has not received any news about \\nX recently.\\n\\n\\uf09e In the poison reverse strategy B can still advertise the value for \\n\\nX, but if the source of information is A, it can replace the \\ndistance with infinity as a warning: “Do not use this value”.\\n\\n\\uf09e if the instability is between three nodes, stability cannot be \\n\\nguaranteed.\\n\\n\\x0c\\uf09e A routing algorithm that directly follows our discussion \\nfor creating least-cost trees and forwarding tables is \\nlink-state (LS) routing.\\n\\n\\uf09e This method uses the term link-state to define the \\ncharacteristic of a link (an edge) that represents a \\nnetwork in the internet.\\n\\n\\uf09e Links with lower costs are preferred to links with \\n\\nhigher costs.\\n\\n\\uf09e if the cost of a link is infinity, it means that the link \\n\\ndoes not exist or has been broken.\\n\\n\\x0c\\x0c\\x0c\\uf09e To create a least-cost tree with this method, each \\n\\nnode needs to have a complete map of the network, \\nwhich means it needs to know the state of each link.\\n\\n\\uf09e There is only one LSDB for the whole internet.\\n\\n\\x0chow each node can create this LSDB that contains \\n\\ninformation about the whole internet?\\n\\uf09e This can be done by a process called flooding.\\n\\uf09e Each node can send some greeting messages to all its \\n\\nimmediate neighbors to collect two pieces of information \\nfor each neighboring node: \\n\\n-The identity of the node. \\n\\n-The cost of the link.\\n\\n\\uf09e The combination of these two pieces of information is called \\n\\nthe LS packet (LSP).\\n\\n\\uf09e The LSP is sent out of each interface, as shown in Figure 20.9 \\n\\nfor our internet in Figure 20.\\n\\n\\x0c\\x0c\\uf09e When a node receives an LSP from one of its interfaces, it \\n\\ncompares the LSP with the copy it may already have.\\n\\uf09e If the arrived LSP is older than the one it has, it discards \\n\\nthe arrived LSP. \\n\\n\\uf09e If it is newer than the one it has, the node discards the old \\n\\nLSP and keeps the received one.\\n\\n\\uf09e It then sends a copy of it out of each interface except the \\n\\none from which the packet arrived.\\n\\n\\x0cTo create a least-cost tree for itself, using the shared LSDB, \\neach node needs to run the famous Dijkstra Algorithm. \\n\\nThis iterative algorithm uses the following steps:\\n1. The node chooses itself as the root of the tree, creating \\na tree with a single node, and sets the total cost of each \\nnode based on the information in the LSDB.\\n\\n2. The node selects one node, among all nodes not in the \\ntree, which is closest to the root, and adds this to the \\ntree. \\n\\nAfter this node is added to the tree, the cost of all other \\nnodes not in the tree needs to be updated because the \\npaths may have been changed.\\n\\n3. The node repeats step 2 until all nodes are added to the \\n\\ntree. \\n\\n\\x0c\\x0c\\x0c\\x0c\\uf09e Both link-state and distance-vector routing are \\n\\nbased on the least-cost goal.\\n\\nLeast cost goal is not a priority\\n\\n\\uf09e router may belong to an organization that does \\nnot provide enough security or it may belong to \\na commercial rival of the sender which might \\ninspect the packets for obtaining information.\\n\\n\\uf09e Least-cost routing does not prevent a packet \\n\\nfrom passing through an area when that area is \\nin the least-cost path.\\n\\n\\x0c\\uf09e Path-vector routing does not have the \\n\\ndrawbacks of LS or DV routing as described \\nabove because it is not based on least-cost \\nrouting.\\n\\n\\uf09e The best route is determined by the source \\nusing the policy it imposes on the route.\\n\\uf09e In other words, the source can control the \\n\\npath.\\n\\n\\uf09e path-vector routing is not actually used in an \\ninternet, and is mostly designed to route a \\npacket between ISPs\\n\\n\\x0c\\uf09e The tree determined by the source when it \\n\\nimposes its own policy. \\n\\n\\uf09e If there is more than one route to a destination, \\nthe source can choose the route that meets its \\npolicy best.\\n\\n\\uf09e A source may apply several policies at the same \\n\\ntime.\\n\\n\\uf09e One of the common policies uses the minimum \\n\\nnumber of nodes to be visited.\\n\\n\\uf09e common policy is to avoid some nodes as the \\n\\nmiddle node in a route.\\n\\n\\x0c\\uf09e The policy imposed by all sources is to use the minimum number \\n\\nof nodes to reach a destination.\\n\\n\\uf09e The spanning tree selected by A and E is such that the \\n\\ncommunication does not pass through D as a middle node.\\n\\n\\x0c\\uf09e When a node is booted, it creates a path vector \\nbased on the information it can obtain about its \\nimmediate neighbor.\\n\\n\\uf09e A node sends greeting messages to its immediate \\nneighbors to collect these pieces of information.\\n\\n\\x0c\\uf09e The policy is defined by selecting the best of multiple \\n\\npaths. \\n\\n\\uf09e Path-vector routing also imposes one more condition on \\n\\nthis equation: If Path (v, y) includes x, that path is \\ndiscarded to avoid a loop in the path.\\n\\n\\uf09e In other words, x does not want to visit itself when it \\n\\nselects a path to y.\\n\\n\\x0c\\x0cNEXT\\n\\n\\x0c'"
            ],
            "application/vnd.google.colaboratory.intrinsic+json": {
              "type": "string"
            }
          },
          "metadata": {},
          "execution_count": 48
        }
      ]
    },
    {
      "cell_type": "code",
      "source": [
        "pattern = re.compile(r\"[a-zA-A]+,{1}\\s{1}\")\n",
        "matches = pattern.findall(txt)\n",
        "matches"
      ],
      "metadata": {
        "id": "La0DlSYWuVF_"
      },
      "execution_count": null,
      "outputs": []
    },
    {
      "cell_type": "code",
      "source": [
        "\n",
        "nltk.download('punkt')\n",
        "nltk.download('wordnet')\n",
        "nltk.download('omw-1.4')\n"
      ],
      "metadata": {
        "colab": {
          "base_uri": "https://localhost:8080/"
        },
        "id": "NEyOqkndut8J",
        "outputId": "86f223b3-a2a8-4e6d-e3f7-4820793bb294"
      },
      "execution_count": 12,
      "outputs": [
        {
          "output_type": "stream",
          "name": "stderr",
          "text": [
            "[nltk_data] Downloading package punkt to /root/nltk_data...\n",
            "[nltk_data]   Unzipping tokenizers/punkt.zip.\n",
            "[nltk_data] Downloading package wordnet to /root/nltk_data...\n",
            "[nltk_data] Downloading package omw-1.4 to /root/nltk_data...\n"
          ]
        },
        {
          "output_type": "execute_result",
          "data": {
            "text/plain": [
              "True"
            ]
          },
          "metadata": {},
          "execution_count": 12
        }
      ]
    },
    {
      "cell_type": "code",
      "source": [
        "sentence_tokens = nltk.sent_tokenize(txt)\n",
        "word_tokens = nltk.word_tokenize(txt)"
      ],
      "metadata": {
        "id": "nuSQgdwB6Yf0"
      },
      "execution_count": 49,
      "outputs": []
    },
    {
      "cell_type": "code",
      "source": [
        "sentence_tokens[5]"
      ],
      "metadata": {
        "id": "UDgrPxUivN5Y",
        "colab": {
          "base_uri": "https://localhost:8080/",
          "height": 36
        },
        "outputId": "29eaf3f3-142f-4cac-cf21-06e502b9fd3b"
      },
      "execution_count": 50,
      "outputs": [
        {
          "output_type": "execute_result",
          "data": {
            "text/plain": [
              "'\\uf09e Path-Vector Routing\\n- Spanning Trees.'"
            ],
            "application/vnd.google.colaboratory.intrinsic+json": {
              "type": "string"
            }
          },
          "metadata": {},
          "execution_count": 50
        }
      ]
    },
    {
      "cell_type": "code",
      "source": [
        "word_tokens[:10]"
      ],
      "metadata": {
        "colab": {
          "base_uri": "https://localhost:8080/"
        },
        "id": "N3u4yyOWlUnM",
        "outputId": "962228ea-a037-4292-b0ab-496445fdead6"
      },
      "execution_count": 51,
      "outputs": [
        {
          "output_type": "execute_result",
          "data": {
            "text/plain": [
              "['Routing',\n",
              " 'Algorithms',\n",
              " '\\uf09e',\n",
              " 'Introduction',\n",
              " '\\uf09e',\n",
              " 'Distance-Vector',\n",
              " 'Routing',\n",
              " '-',\n",
              " 'Bellman-Ford',\n",
              " 'Equation']"
            ]
          },
          "metadata": {},
          "execution_count": 51
        }
      ]
    },
    {
      "cell_type": "code",
      "source": [
        "lemmer = nltk.stem.WordNetLemmatizer()\n",
        "def lemtokens(tokens):\n",
        "  return [lemmer.lemmatize(token) for token in tokens]\n",
        "remove_punc_dict = dict((ord(punct),None) for punct in string.punctuation)\n",
        "def lemnormalize(text):\n",
        "  return lemtokens(nltk.word_tokenize(text.lower().translate(remove_punc_dict)))"
      ],
      "metadata": {
        "id": "JF3pPJL4lYu2"
      },
      "execution_count": 52,
      "outputs": []
    },
    {
      "cell_type": "code",
      "source": [
        "greet_in = ('hello','hey','hi','wassup','how u doin','how are you?')\n",
        "greet_res = ('hey','hi','Hey there!','There there!')\n",
        "def greet(sentence):\n",
        "  for word in sentence.split():\n",
        "    if word.lower() in greet_in:\n",
        "      return random.choice(greet_res)"
      ],
      "metadata": {
        "id": "3fntiMJ0mDpj"
      },
      "execution_count": 53,
      "outputs": []
    },
    {
      "cell_type": "code",
      "source": [
        "from sklearn.feature_extraction.text import TfidfVectorizer\n",
        "from sklearn.metrics.pairwise import cosine_similarity"
      ],
      "metadata": {
        "id": "h_mlvo2ymyoc"
      },
      "execution_count": 54,
      "outputs": []
    },
    {
      "cell_type": "code",
      "source": [
        "def response(user_res):\n",
        "  rob_res = ''\n",
        "  TfidVec = TfidfVectorizer(tokenizer = lemnormalize,stop_words='english')\n",
        "  tfidf = TfidVec.fit_transform(sentence_tokens)\n",
        "  vals = cosine_similarity(tfidf[-1],tfidf)\n",
        "  idx = vals.argsort()[0][-2]\n",
        "  flat = vals.flatten()\n",
        "  flat.sort()\n",
        "  req_tfidf = flat[-2]\n",
        "  if req_tfidf==0:\n",
        "    rob_res += \"I am sorry. Unable to understand you.\"\n",
        "    return rob_res\n",
        "  else:\n",
        "    for i in range(25):\n",
        "      rob_res = rob_res + sentence_tokens[idx+i]\n",
        "    return rob_res"
      ],
      "metadata": {
        "id": "zmf7jiPfn7Bn"
      },
      "execution_count": 55,
      "outputs": []
    },
    {
      "cell_type": "code",
      "source": [
        "flag = True\n",
        "print(\"Hello there! Ask your curious question please.Also provide the number of sentences you want\")\n",
        "while(flag==True):\n",
        "\n",
        "  user_res = input(\"You: \" )\n",
        "  #user_n = int(input(\"No of sentences: \"))\n",
        "  user_res = user_res.lower()\n",
        "  if(user_res!='bye'):\n",
        "    if(user_res == 'thank you' or user_res == 'thanks'):\n",
        "      flag = False\n",
        "      print(\"Bot: You are welcome...\")\n",
        "    else:\n",
        "      if(greet(user_res)!= None):\n",
        "        print(\"Bot \"+greet(user_res))\n",
        "      else:\n",
        "        sentence_tokens.append(user_res)\n",
        "        word_tokens+=nltk.word_tokenize(user_res)\n",
        "        final_words = list(set(word_tokens))\n",
        "        print(\"Bot: \"+response(user_res))\n",
        "        sentence_tokens.remove(user_res)\n",
        "  else:\n",
        "    flag =False\n",
        "    print(\"Bot: Goodbye!!\")"
      ],
      "metadata": {
        "colab": {
          "base_uri": "https://localhost:8080/"
        },
        "id": "93_zB1a5oxiK",
        "outputId": "d521b8f4-cc23-48d4-f068-2ac0af898be4"
      },
      "execution_count": 56,
      "outputs": [
        {
          "output_type": "stream",
          "name": "stdout",
          "text": [
            "Hello there! Ask your curious question please.Also provide the number of sentences you want\n",
            "You: link state routing\n",
            "Bot: -The cost of the link. The combination of these two pieces of information is called \n",
            "\n",
            "the LS packet (LSP). The LSP is sent out of each interface, as shown in Figure 20.9 \n",
            "\n",
            "for our internet in Figure 20. When a node receives an LSP from one of its interfaces, it \n",
            "\n",
            "compares the LSP with the copy it may already have. If the arrived LSP is older than the one it has, it discards \n",
            "\n",
            "the arrived LSP. If it is newer than the one it has, the node discards the old \n",
            "\n",
            "LSP and keeps the received one. It then sends a copy of it out of each interface except the \n",
            "\n",
            "one from which the packet arrived.To create a least-cost tree for itself, using the shared LSDB, \n",
            "each node needs to run the famous Dijkstra Algorithm.This iterative algorithm uses the following steps:\n",
            "1.The node chooses itself as the root of the tree, creating \n",
            "a tree with a single node, and sets the total cost of each \n",
            "node based on the information in the LSDB.2.The node selects one node, among all nodes not in the \n",
            "tree, which is closest to the root, and adds this to the \n",
            "tree.After this node is added to the tree, the cost of all other \n",
            "nodes not in the tree needs to be updated because the \n",
            "paths may have been changed.3.The node repeats step 2 until all nodes are added to the \n",
            "\n",
            "tree. Both link-state and distance-vector routing are \n",
            "\n",
            "based on the least-cost goal.Least cost goal is not a priority\n",
            "\n",
            " router may belong to an organization that does \n",
            "not provide enough security or it may belong to \n",
            "a commercial rival of the sender which might \n",
            "inspect the packets for obtaining information. Least-cost routing does not prevent a packet \n",
            "\n",
            "from passing through an area when that area is \n",
            "in the least-cost path. Path-vector routing does not have the \n",
            "\n",
            "drawbacks of LS or DV routing as described \n",
            "above because it is not based on least-cost \n",
            "routing. The best route is determined by the source \n",
            "using the policy it imposes on the route. In other words, the source can control the \n",
            "\n",
            "path. path-vector routing is not actually used in an \n",
            "internet, and is mostly designed to route a \n",
            "packet between ISPs\n",
            "\n",
            "\f The tree determined by the source when it \n",
            "\n",
            "imposes its own policy. If there is more than one route to a destination, \n",
            "the source can choose the route that meets its \n",
            "policy best. A source may apply several policies at the same \n",
            "\n",
            "time. One of the common policies uses the minimum \n",
            "\n",
            "number of nodes to be visited.\n",
            "You: thanks\n",
            "Bot: You are welcome...\n"
          ]
        }
      ]
    }
  ]
}